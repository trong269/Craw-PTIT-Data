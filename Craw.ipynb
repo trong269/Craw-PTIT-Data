{
 "cells": [
  {
   "cell_type": "code",
   "execution_count": 4,
   "metadata": {},
   "outputs": [],
   "source": [
    "import json\n",
    "from bs4 import BeautifulSoup\n",
    "import requests"
   ]
  },
  {
   "cell_type": "code",
   "execution_count": 29,
   "metadata": {},
   "outputs": [],
   "source": [
    "# các url cần thiết\n",
    "PTIT_PORTAL_URL = \"https://portal.ptit.edu.vn\"\n",
    "THONG_BAO_URL = 'https://ptit.edu.vn/tin-tuc-su-kien/thong-bao'\n",
    "MAX_PAGE = 4"
   ]
  },
  {
   "cell_type": "code",
   "execution_count": 37,
   "metadata": {},
   "outputs": [],
   "source": [
    "def get_content_from_a_notice(url):\n",
    "    '''\n",
    "    Hàm này trả về nội dung của một thông báo bao gồm cả văn bản và hình ảnh\n",
    "    tham số:\n",
    "        url: url của thông báo\n",
    "    return:\n",
    "        dict: \n",
    "            {\n",
    "                \"text\": str,\n",
    "                \"image_links\": list[str]\n",
    "            }\n",
    "    '''\n",
    "    response = requests.get(url)\n",
    "    soup = BeautifulSoup(response.text, features=\"html.parser\")\n",
    "    content = soup.find(\"div\", class_=\"post-content\")\n",
    "    # nếu không tìm thấy content thì trả về None\n",
    "    if not content:\n",
    "        return None\n",
    "    text = '' # văn bản\n",
    "    image_links = [] # các link ảnh\n",
    "    for p in content.find_all(\"p\"):\n",
    "        # nếu có text thì thêm vào text\n",
    "        if p.text.strip() :\n",
    "            text += p.text.strip() + '\\n'\n",
    "    # nếu có ảnh thì thêm vào image_links\n",
    "    for img in content.find_all(\"img\", src=True):\n",
    "        image_links.append(img['src'])\n",
    "    return dict(text=text, image_links=image_links)\n",
    "\n",
    "def Craw_notices(url):\n",
    "    '''\n",
    "    Hàm này trả về thông báo từ trang thông báo của trường PTIT\n",
    "    return:\n",
    "        list[dict]: \n",
    "            [\n",
    "                {\n",
    "                    \"title\": str,\n",
    "                    \"date\": str,\n",
    "                    \"url\": str,\n",
    "                    \"content\": dict\n",
    "                }\n",
    "            ]\n",
    "    '''\n",
    "    data = []\n",
    "    response = requests.get(url)\n",
    "    soup = BeautifulSoup(response.text, features=\"html.parser\")\n",
    "    ul = soup.find(\"ul\", class_=\"ova-blog column_4 version_1 default-post\")\n",
    "    items = ul.find_all(\"li\", class_=\"item\")\n",
    "    # lấy thông tin từ từng item\n",
    "    for item in items:\n",
    "        content = item.find(\"div\", class_=\"content\")\n",
    "        # lấy title, url, date từ item\n",
    "        title = content.find(\"h2\", class_= 'post-title').text.strip()\n",
    "        url = content.find(\"a\" )['href'].strip()\n",
    "        date = content.find(\"span\", class_=\"right date\").text.strip()\n",
    "        data.append(dict(title=title, date=date, url=url, content=get_content_from_a_notice(url)))\n",
    "    return data"
   ]
  },
  {
   "cell_type": "code",
   "execution_count": 38,
   "metadata": {},
   "outputs": [],
   "source": [
    "notices = []\n",
    "for i in range(1, MAX_PAGE + 1):\n",
    "    URL_BASE = f\"{THONG_BAO_URL}/page/{i}\"\n",
    "    notices.extend(Craw_notices(URL_BASE))"
   ]
  },
  {
   "cell_type": "code",
   "execution_count": 45,
   "metadata": {},
   "outputs": [],
   "source": [
    "with open(r'.\\Results\\notices.json', 'w', encoding='utf-8') as f:\n",
    "    s = json.dumps(notices, ensure_ascii=False, indent=4)\n",
    "    f.write(s)"
   ]
  }
 ],
 "metadata": {
  "kernelspec": {
   "display_name": "venv",
   "language": "python",
   "name": "python3"
  },
  "language_info": {
   "codemirror_mode": {
    "name": "ipython",
    "version": 3
   },
   "file_extension": ".py",
   "mimetype": "text/x-python",
   "name": "python",
   "nbconvert_exporter": "python",
   "pygments_lexer": "ipython3",
   "version": "3.10.0"
  }
 },
 "nbformat": 4,
 "nbformat_minor": 2
}
